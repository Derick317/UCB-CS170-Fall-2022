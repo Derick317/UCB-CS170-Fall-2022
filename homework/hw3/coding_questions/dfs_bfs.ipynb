{
 "cells": [
  {
   "cell_type": "code",
   "execution_count": null,
   "id": "13c7a8de-93ad-4885-9d1d-5f963b3d29b0",
   "metadata": {},
   "outputs": [],
   "source": [
    "ok=\"\"\"\n",
    "         _          _                  _           _        \n",
    "        /\\ \\       / /\\               / /\\        / /\\      \n",
    "       /  \\ \\     / /  \\             / /  \\      / /  \\     \n",
    "      / /\\ \\ \\   / / /\\ \\           / / /\\ \\__  / / /\\ \\__  \n",
    "     / / /\\ \\_\\ / / /\\ \\ \\         / / /\\ \\___\\/ / /\\ \\___\\ \n",
    "    / / /_/ / // / /  \\ \\ \\        \\ \\ \\ \\/___/\\ \\ \\ \\/___/ \n",
    "   / / /__\\/ // / /___/ /\\ \\        \\ \\ \\       \\ \\ \\       \n",
    "  / / /_____// / /_____/ /\\ \\   _    \\ \\ \\  _    \\ \\ \\      \n",
    " / / /      / /_________/\\ \\ \\ /_/\\__/ / / /_/\\__/ / /      \n",
    "/ / /      / / /_       __\\ \\_\\\\ \\/___/ /  \\ \\/___/ /       \n",
    "\\/_/       \\_\\___\\     /____/_/ \\_____\\/    \\_____\\/        \n",
    "                                                            \n",
    "\"\"\""
   ]
  },
  {
   "cell_type": "markdown",
   "id": "b0d4d6d9",
   "metadata": {},
   "source": [
    "# 1) Representing graphs in code\n",
    "\n",
    "There are multiple ways to represent graphs in code. In class we covered adjacency matrices (https://people.eecs.berkeley.edu/~vazirani/algorithms/chap3.pdf#page=2) and adjacency lists (https://people.eecs.berkeley.edu/~vazirani/algorithms/chap3.pdf#page=3). In general for 170, we choose to use the adjacency list representation since it let's us quickly determine all of a given nodes neighbors.\n",
    "\n",
    "In many programming problems, verticies are typically labelled $0$ through $n-1$ for convenience (recall that arrays and lists in most languages begin at index 0). This allows us to represent an adjacency list using a list of lists. For the first exercise, store a given undirected graph as an adjacency list. Your input will be an integer $n$ representing the number of vertices in a graph and a list containing tuples with two elements. Each tuple represents the two endpoints of an undirected edge. (Hint: try using a list of lists or using a dictionary where the values are lists)"
   ]
  },
  {
   "cell_type": "code",
   "execution_count": null,
   "id": "2200bf6c",
   "metadata": {},
   "outputs": [],
   "source": [
    "# using a list of lists\n",
    "def make_adj_list(n, edge_list):\n",
    "    \"\"\"\n",
    "    return an adjacency list for a graph with nodes labelled 0 through n-1 given a list of edges in the graph\n",
    "\n",
    "    args:\n",
    "    n: an integer representing the number of nodes in a graph\n",
    "    edge_list: a list of tuples. Each tuple (u,v) represents an undirected edge.\n",
    "    \"\"\"\n",
    "    adj_list = [list() for _ in range(n)]\n",
    "    for edge in edge_list:\n",
    "        adj_list[edge[0]].append(edge[1])\n",
    "        adj_list[edge[1]].append(edge[0])\n",
    "\n",
    "    return adj_list"
   ]
  },
  {
   "cell_type": "markdown",
   "id": "bd05b1da",
   "metadata": {},
   "source": [
    "## Verification\n",
    "\n",
    "To check that your adjacency list construction is correct, we generate 100 random graphs using networkx (this is a library that sometimes gets used in the class project), and make sure the adjacency list contains all the edges in the graph."
   ]
  },
  {
   "cell_type": "code",
   "execution_count": null,
   "id": "26faf952",
   "metadata": {},
   "outputs": [],
   "source": [
    "import networkx as nx\n",
    "for i in range (100):\n",
    "    n = 50\n",
    "    random_graph = nx.gnp_random_graph(n,0.6)\n",
    "    edge_list = random_graph.edges\n",
    "\n",
    "    # autograder\n",
    "    adj_list = make_adj_list(n,edge_list)\n",
    "\n",
    "    # 0) make sure adj_list is a list of lists or a dictionary of lists\n",
    "    is_dict = type(adj_list) is dict\n",
    "    assert is_dict or type(adj_list) is list, \"Please return a list of lists or a dictionary of lists\"\n",
    "\n",
    "\n",
    "    # 1) assert all vertices are present in the adjacency list\n",
    "    for i in range(0,n):\n",
    "        if(is_dict):\n",
    "            assert adj_list.get(i) is not None, \"vertex \"+str(i)+\" is not in your adjacency list!\"\n",
    "        else:\n",
    "            assert len(adj_list) >= i, \"vertex \"+str(i)+\" is not in your adjacency list!\"\n",
    "\n",
    "    # 2) assert all edges are present in the adjacency list\n",
    "    for edge in edge_list:\n",
    "        assert edge[1] in adj_list[edge[0]], \"edge (\"+str(edge[0])+\",\" +str(edge[1])+\") is not in your adjacency list!\"\n",
    "        assert edge[0] in adj_list[edge[1]], \"edge (\"+str(edge[1])+\",\" +str(edge[0])+\") is not in your adjacency list!\"\n",
    "\n",
    "    # 3) assert there are no edges present in the adjacency list that are not present in the graph\n",
    "    for i in range(0, n):\n",
    "        for j in adj_list[i]:\n",
    "            assert (i,j) in edge_list\n",
    "\n",
    "print(ok)"
   ]
  },
  {
   "cell_type": "markdown",
   "id": "51f9fbed",
   "metadata": {},
   "source": [
    "# 2) DFS\n",
    "\n",
    "In class we showed how to use DFS to check if there exists a path between two nodes, topologically sort nodes, and find SCC's. In those algorithms, pre and post numbers were used.\n",
    "\n",
    "Here we'll implement a variation of DFS to print out the path between two nodes $s$ and $t$. In many problems, we want to be able to find the actual path between two nodes, not just determine if it exists. We can achieve this by passing in an extra data structure to our dfs call which for each node $u$, tells us what node $v$ will be the previous node on some root to $u$ path. By keeping track of this `prev` array you can then reconstruct the $s$-$t$ path by stepping through the `prev` array starting at $t$. Note you will not need to implement calculating pre and post numbers for this exercise."
   ]
  },
  {
   "cell_type": "code",
   "execution_count": null,
   "id": "17f71b59",
   "metadata": {},
   "outputs": [],
   "source": [
    "def return_path(adj_list, s, t, search):\n",
    "    \"\"\"\n",
    "    Returns a list of nodes starting with s and ending with t representing an s to t path if it exists. \n",
    "    The path will be found using the 'search' function. Returns an empty list otherwise.\n",
    "\n",
    "    Input:\n",
    "        - adj_list: an adjacency list \n",
    "        - s: an int representing the starting node\n",
    "        - t: an int representing the destination node\n",
    "        - search(adj_list, curr, visited, prev): a graph traversal algorithm\n",
    "    \"\"\"\n",
    "    \n",
    "    visited = [False] * len(adj_list)\n",
    "    prev = [None] * len(adj_list)\n",
    "    \n",
    "    search(adj_list, s, visited, prev)\n",
    "    path = []\n",
    "    if prev[t] is not None:\n",
    "        current = t\n",
    "        while prev[current] != s:\n",
    "            path.append(current)\n",
    "            current = prev[current]\n",
    "        path.append(current)\n",
    "        path.append(s)\n",
    "    \n",
    "    return list(reversed(path))\n",
    "\n",
    "def dfs(adj_list, curr, visited, prev):\n",
    "    \"\"\"\n",
    "    implement DFS here, the staff solution uses a recursive version of dfs similar to the textbook, \n",
    "    but feel free to write an iterative version\n",
    "    \n",
    "    args:\n",
    "    adj_list: an adjacency_list representing the graph\n",
    "    start: an int representing the node from which to begin traversing\n",
    "    visited: an array of booleans representing if a vertex has been visited\n",
    "    prev: an array of ints representing the previous node on a path from start to the current node\n",
    "    \"\"\"\n",
    "    visited[curr] = True\n",
    "    for v in adj_list[curr]:\n",
    "        if not visited[v]:\n",
    "            prev[v] = curr\n",
    "            dfs(adj_list, v, visited, prev)"
   ]
  },
  {
   "cell_type": "markdown",
   "id": "3403da22",
   "metadata": {},
   "source": [
    "## Verification\n",
    "\n",
    "To check that a valid path is found, we again use networkx to generate random graphs and check that the path returned is valid."
   ]
  },
  {
   "cell_type": "code",
   "execution_count": null,
   "id": "41daebd9",
   "metadata": {},
   "outputs": [],
   "source": [
    "import networkx as nx\n",
    "for i in range(20):\n",
    "    n = 10\n",
    "    random_graph = nx.gnp_random_graph(n, 0.15)\n",
    "    edge_list = random_graph.edges\n",
    "    adj_list = make_adj_list(n, edge_list)\n",
    "    path = return_path(adj_list, 0, n - 1, dfs)\n",
    "    if len(path) == 0:\n",
    "        assert len(list(nx.all_simple_paths(random_graph, 0, n-1))) == 0\n",
    "    else:\n",
    "        assert nx.is_simple_path(random_graph, path)\n",
    "\n",
    "print(ok)"
   ]
  },
  {
   "cell_type": "markdown",
   "id": "e9d28c1e",
   "metadata": {},
   "source": [
    "# 3) BFS\n",
    "\n",
    "Similar to the above implementation of DFS, here we'll implement BFS such that BFS returns the s-t path. Since the code which generates the path is the same, you only need to implement BFS to work with the `return_path` method."
   ]
  },
  {
   "cell_type": "code",
   "execution_count": null,
   "id": "bd5584bc",
   "metadata": {},
   "outputs": [],
   "source": [
    "import queue\n",
    "\n",
    "def bfs(adj_list, start, visited, prev):\n",
    "    \"\"\"\n",
    "    implement BFS here which updates the prev array\n",
    "\n",
    "    args:\n",
    "    adj_list: an adjacency_list representing the graph\n",
    "    start: an int representing the node from which to begin traversing\n",
    "    visited: an array of booleans representing if a vertex has been visited\n",
    "    prev: an array of ints representing the previous node on a path from start to the current node\n",
    "    \"\"\"\n",
    "    q = queue.Queue()\n",
    "    \n",
    "    # hint q.put(a) and q.get() pushes an element to the queue and pops off and \n",
    "    # returns the top element from the queue respectively\n",
    "    visited[start] = True\n",
    "    q.put(start)\n",
    "    while q.qsize() > 0:\n",
    "        current = q.get()\n",
    "        for v in adj_list[current]:\n",
    "            if not visited[v]:\n",
    "                visited[v] = True\n",
    "                prev[v] = current\n",
    "                q.put(v)"
   ]
  },
  {
   "cell_type": "markdown",
   "id": "3435c423",
   "metadata": {},
   "source": [
    "## Verification\n",
    "\n",
    "To check that a valid path is found, we again use networkx to generate random graphs and check that the path returned is valid."
   ]
  },
  {
   "cell_type": "code",
   "execution_count": null,
   "id": "30d37f30",
   "metadata": {
    "tags": []
   },
   "outputs": [],
   "source": [
    "import networkx as nx\n",
    "for i in range(100):\n",
    "    n = 10\n",
    "    random_graph = nx.erdos_renyi_graph(n, 0.3)\n",
    "    edge_list = random_graph.edges\n",
    "    adj_list = make_adj_list(n, edge_list)\n",
    "    path = return_path(adj_list, 0, n-1, bfs)\n",
    "    if len(path) == 0:\n",
    "        assert len(list(nx.all_simple_paths(random_graph, 0, n-1))) == 0\n",
    "    else:\n",
    "        assert len(nx.shortest_path(random_graph, 0, n-1)) == len(path), (path, edge_list)\n",
    "\n",
    "print(ok)"
   ]
  },
  {
   "cell_type": "markdown",
   "id": "6f3f8110",
   "metadata": {},
   "source": [
    "# 4) Shortest vanishing paths\n",
    "\n",
    "For this problem assume you are given an directed unweighted graph and two nodes $s$ and $t$, and you want to find the shortest $s$ to $t$ path. However, you're additionally also given a function which takes in an edge as input and returns a boolean representing if an edge is traversable. It returns true if you are allowed to traverse that edge in your path and false otherwise. Write an algorithm which finds the shortest $s$ to $t$ path given this function.\n",
    "\n",
    "There are two approaches to solving this problem. The first approach is to modify the BFS function. You modify BFS to only traverse edges the function returns true on. Intuitively, this solution works because we are only considering the edges that we are allowed to traverse and finding the shortest path through those edges. However, solutions which modify the algorithm they use can be a lot harder to prove for correctness -- imagine modifying FFT for a problem and proving your modified FFT works! Thus, a lot of problems in CS 170 involve using an algorithm as a black box (ie not modifying the algorithm at all) and instead modifying the inputs or outputs of that algorithm to solve the problem. To prove correctness of our solution, we then only need to show we are providing the correct inputs or interpretting the output correctly, rather than proving that the entire algorithm is correct.\n",
    "\n",
    "Thus for your solution, we require you to take the second approach, which is to modify the input and/or output of BFS, which we know finds the shortest path on an unweighted graph. Your solution must call the the `return_path()` you implemented above and may not modify that method"
   ]
  },
  {
   "cell_type": "code",
   "execution_count": null,
   "id": "154d23e7",
   "metadata": {},
   "outputs": [],
   "source": [
    "def shortest_vanishing_path(adj_list, s, t, func):\n",
    "    \"\"\"\n",
    "    implement your solution here \n",
    "    \n",
    "    args:\n",
    "    adj_list: an adjacency_list representing the graph\n",
    "    s: an int representing the node to start traversing from\n",
    "    t: an int representing the target node\n",
    "    func(u, v): returns true iff you're allowed to traverse edge u,v\n",
    "    \"\"\"\n",
    "    \n",
    "    # modify adj_list here\n",
    "    adj_list_new = list(range(len(adj_list)))\n",
    "    for u in range(len(adj_list)):\n",
    "        adj_list_new[u] = [v for v in adj_list[u] if func(u, v)]\n",
    "    \n",
    "    return return_path(adj_list_new, s, t, bfs)"
   ]
  },
  {
   "cell_type": "markdown",
   "id": "d2cf8c9d",
   "metadata": {},
   "source": [
    "# Verification\n",
    "\n",
    "We will use without proof (since the proof would be quite long), the fact that the first approach to this problem which modifies BFS produces the correct answer. To verify the correctness of your solution, we will simply check that your solution produces the same answer as the modified BFS approach. "
   ]
  },
  {
   "cell_type": "code",
   "execution_count": null,
   "id": "0b89f585",
   "metadata": {},
   "outputs": [],
   "source": [
    "def func(i, j):\n",
    "    return (i + j) % 2 == 1\n",
    "\n",
    "def shortest_vanishing_path_bfs(adj_list, start, visited, prev):\n",
    "    \"\"\"\n",
    "    implementation of the first solution where BFS is modified to only take edges (u,v) which func(u,v)\n",
    "    returns true\n",
    "\n",
    "    args:\n",
    "    adj_list: an adjacency_list representing the graph\n",
    "    start: an int representing the node from which to begin traversing\n",
    "    visited: an array of booleans representing if a vertex has been visited\n",
    "    prev: an array of ints representing the previous node on a path from start to the current node\n",
    "    \"\"\"\n",
    "    q = queue.Queue()\n",
    "    q.put([start, start])\n",
    "    while not q.empty():\n",
    "        [prev_node, curr] = q.get()\n",
    "        if not visited[curr]:\n",
    "            visited[curr] = True\n",
    "            prev[curr] = prev_node\n",
    "            for v in adj_list[curr]:\n",
    "                if func(curr,v): \n",
    "                    q.put([curr,v])"
   ]
  },
  {
   "cell_type": "code",
   "execution_count": null,
   "id": "4dc6780f",
   "metadata": {},
   "outputs": [],
   "source": [
    "def validate_path(adj_list, func, path):\n",
    "    for i in range(len(path) - 1):\n",
    "        assert path[i + 1] in adj_list[path[i]]\n",
    "        assert func(path[i], path[i + 1])\n",
    "    \n",
    "for i in range(100):\n",
    "    n = 100\n",
    "    random_graph = nx.erdos_renyi_graph(n,0.3)\n",
    "    \n",
    "    edge_list = random_graph.edges\n",
    "    adj_list = make_adj_list(n, edge_list)\n",
    "    \n",
    "    path_student = shortest_vanishing_path(adj_list, 0, n-1, func)\n",
    "    path_bfs = return_path(adj_list, 0, n-1, shortest_vanishing_path_bfs)\n",
    "    if len(path) == 0:\n",
    "        assert len(list(nx.all_simple_paths(random_graph, 0, n - 1))) == 0\n",
    "    else:\n",
    "        assert len(path_bfs) == len(path_student)\n",
    "        validate_path(adj_list, func, path_student)\n",
    "        validate_path(adj_list, func, path_bfs)\n",
    "\n",
    "print(ok)"
   ]
  }
 ],
 "metadata": {
  "kernelspec": {
   "display_name": "Python 3 (ipykernel)",
   "language": "python",
   "name": "python3"
  },
  "language_info": {
   "codemirror_mode": {
    "name": "ipython",
    "version": 3
   },
   "file_extension": ".py",
   "mimetype": "text/x-python",
   "name": "python",
   "nbconvert_exporter": "python",
   "pygments_lexer": "ipython3",
   "version": "3.9.0"
  }
 },
 "nbformat": 4,
 "nbformat_minor": 5
}
