{
 "cells": [
  {
   "cell_type": "markdown",
   "metadata": {},
   "source": [
    "# Divide and Conquer Algorithms\n",
    "\n",
    "In this notebook, you will be implementing three different divide and conquer algorithms.\n",
    "\n",
    "__Run this to install the necessary packages.__"
   ]
  },
  {
   "cell_type": "code",
   "execution_count": null,
   "metadata": {},
   "outputs": [],
   "source": [
    "#!pip install numpy"
   ]
  },
  {
   "cell_type": "code",
   "execution_count": 1,
   "metadata": {},
   "outputs": [],
   "source": [
    "from numpy import random\n",
    "import numpy as np"
   ]
  },
  {
   "cell_type": "markdown",
   "metadata": {},
   "source": [
    "## Q1: Fixed Points\n",
    "\n",
    "Given a sorted array of distinct integers $A[0,..., n-1]$, you want to find out whether there is an\n",
    "index $i$ for which $A[i] = i$. We want to find a divide-and-conquer algorithm that runs in time $O(\\log n)$.\n",
    "\n",
    "#### Naive Solution\n",
    "\n",
    "We will later use this naive solution to check your implementation."
   ]
  },
  {
   "cell_type": "code",
   "execution_count": 3,
   "metadata": {},
   "outputs": [],
   "source": [
    "def fixed_point_naive(array):\n",
    "    for i in range(len(array)):\n",
    "        if array[i] == i:\n",
    "            return True\n",
    "    return False"
   ]
  },
  {
   "cell_type": "markdown",
   "metadata": {},
   "source": [
    "This is a naive algorithm that runs in $O(n)$ time. It simply goes through each index of the array and checks whether the element at this index equals the index. Note that this algorithm does not utilize the fact that the array is sorted and that it consists of distinct integers, it just goes through each index, and such algorithm would work for any array, sorted or not sorted. We will use the fact that it is sorted to devise a D&C algorithm which will run much faster.\n",
    "\n",
    "### 1a. Write a D&C Solution\n",
    "\n",
    "The fact that the array is sorted and it consists of distinct elements will allow us to use a D&C approach for this problem. Remember how in binary search, we use the fact that the input array is sorted to look at the middle element on each step and based on its value, cut down the size of the input by half.\n",
    "\n",
    "Let us look at a few examples that might lead us to a D&C solution.\n",
    "\n",
    "Example 1: $A = [0, 2, 100, 101, 102]$\n",
    "\n",
    "Does this array have such an index? Yes, we can see that $A[0] = 0$. Looking at the array, is there something you notice about it that will allow you to cut down the size of it by half and recurse on the remaining subarray? Try looking at the middle element, $A[2]$.\n",
    "\n",
    "Example 2: $A = [-1, -2, 1, 2, 4]$\n",
    "\n",
    "For this array, the answer is again true, because $A[4] = 4$. Again, is there a part of the array that you would be able to cut down and only focus your attention on the remaining part?\n",
    "\n",
    "In general, looking at examples is a very useful way to approach a problem. By observing specific examples, you can notice patterns that you can later generalize in your solution.\n",
    "\n",
    "Now, it's time to write the solution. Since you already got some practice with quick select and with binary search, we offer no skeleton code for this section of the assignment."
   ]
  },
  {
   "cell_type": "code",
   "execution_count": 7,
   "metadata": {},
   "outputs": [],
   "source": [
    "def fixed_point(array):\n",
    "    # Fill in your solution here.\n",
    "    # Feel free to define any helper functions you might need.\n",
    "    \n",
    "    return fixed_point_k(array, 0)\n",
    "\n",
    "def fixed_point_k(array, k):\n",
    "    \"\"\"whether there is an index i for which array[i]=i+k?\"\"\"\n",
    "    if len(array) <= 1:\n",
    "        return array[0] == k\n",
    "    mid = len(array) // 2\n",
    "    if array[mid] > mid + k:\n",
    "        return fixed_point_k(array[:mid], k)\n",
    "    else:\n",
    "        return fixed_point_k(array[mid:], k + mid)"
   ]
  },
  {
   "cell_type": "markdown",
   "metadata": {},
   "source": [
    "### Verification\n",
    "\n",
    "Let us check your solution on some generated inputs. You do not have to understand the generating code. If your implementation is correct, a 'success' message will be written."
   ]
  },
  {
   "cell_type": "code",
   "execution_count": 8,
   "metadata": {},
   "outputs": [
    {
     "name": "stdout",
     "output_type": "stream",
     "text": [
      "success\n"
     ]
    }
   ],
   "source": [
    "def generate():\n",
    "    size = random.randint(100, 1000)\n",
    "    array = [random.randint(-10000, 10000)]\n",
    "    for i in range(1, size):\n",
    "        step = random.randint(1, 100)\n",
    "        array.append(array[i - 1] + step)\n",
    "    return array\n",
    "\n",
    "def generate_true():\n",
    "    size = random.randint(100, 1000)\n",
    "    true_index = random.randint(0, size)\n",
    "    array = [0] * size\n",
    "    array[true_index] = true_index\n",
    "    for i in range(true_index - 1, -1, -1):\n",
    "        step = random.randint(1, 100)\n",
    "        array[i] = array[i + 1] - step\n",
    "    for i in range(true_index + 1, size):\n",
    "        step = random.randint(1, 100)\n",
    "        array[i] = array[i - 1] + step\n",
    "    return array\n",
    "\n",
    "NUM_SAMPLES = 1000\n",
    "\n",
    "for i in range(NUM_SAMPLES):\n",
    "    generated = generate()\n",
    "    assert fixed_point_naive(generated) == fixed_point(generated)\n",
    "    generated = generate_true()\n",
    "    assert fixed_point_naive(generated) == fixed_point(generated)\n",
    "    \n",
    "print('success')"
   ]
  },
  {
   "cell_type": "markdown",
   "metadata": {},
   "source": [
    "## Q2: Quickselect\n",
    "\n",
    "In this section, we will implement the quickselect algorithm. The quick select algorithm is an efficient divide and conquer algorithm for finding the $k$-th smallest element of an unsorted array. We will first demonstrate a naive solution for this problem, then implement and compare it with quick select.\n",
    "\n",
    "The full algorithm is detailed here https://people.eecs.berkeley.edu/~vazirani/algorithms/chap2.pdf#page=10.\n",
    "\n",
    "#### Naive Solution\n",
    "\n",
    "The naive solution to the problem is as follows: 1) sort the input array 2) return the k-th element"
   ]
  },
  {
   "cell_type": "code",
   "execution_count": 9,
   "metadata": {},
   "outputs": [],
   "source": [
    "def naive_select(array, k):\n",
    "    sorted_array = sorted(array)\n",
    "    return sorted_array[k]"
   ]
  },
  {
   "cell_type": "markdown",
   "metadata": {},
   "source": [
    "We can run this on a few test cases to check that it works."
   ]
  },
  {
   "cell_type": "code",
   "execution_count": 10,
   "metadata": {},
   "outputs": [
    {
     "name": "stdout",
     "output_type": "stream",
     "text": [
      "The smallest element of  [6, 1, 3, 5, 7, 5, 8]  is  1\n",
      "The median element of  [10, 4, 7, 2, 8, 9]  is  8\n",
      "The largest element of  [12, 4, 6, 8, 3, 4, 2]  is  12\n"
     ]
    }
   ],
   "source": [
    "array1 = [6, 1, 3, 5, 7, 5, 8]\n",
    "array2 = [10, 4, 7, 2, 8, 9]\n",
    "array3 = [12, 4, 6 ,8 ,3, 4, 2]\n",
    "\n",
    "print(\"The smallest element of \", array1, \" is \", naive_select(array1, 0))\n",
    "print(\"The median element of \", array2, \" is \", naive_select(array2, len(array2)//2))\n",
    "print(\"The largest element of \", array3, \" is \", naive_select(array3, len(array3) - 1))"
   ]
  },
  {
   "cell_type": "markdown",
   "metadata": {},
   "source": [
    "#### Runtime analysis\n",
    "\n",
    "This algorithm first sorts the array, which would take $O(n\\log n)$ assuming quicksort is used and indexing into the array which takes $O(1)$. Thus, the algorithm takes $O(n\\log n)$ overall.\n",
    "\n",
    "This is not a very efficient solution; however, since it is unnecessary to sort the entire array to simply find one element. Thus, we will next explore quickselect.\n",
    "\n",
    "### 2a. Write a D&C Solution\n",
    "\n",
    "Quickselect is a randomized divide and conquer algorithm which is able to solve this problem in expected $O(n)$ time. See https://people.eecs.berkeley.edu/~vazirani/algorithms/chap2.pdf#page=11 for a detailed runtime analysis. The main idea of the algorithm is as follows:\n",
    "\n",
    "1. Randomly select a pivot element from the array\n",
    "2. Partion the array into three partitions (the elements less than, equal too, and greater than the pivot)\n",
    "3. Recurse on the partition which must contain the k-th smallest element\n",
    "\n",
    "With this in mind, please implement the quickselect algorithm by replacing the elipses \"...\" with your solution."
   ]
  },
  {
   "cell_type": "code",
   "execution_count": 11,
   "metadata": {},
   "outputs": [],
   "source": [
    "import numpy.random as random\n",
    "def quick_select(array, k):\n",
    "    \n",
    "    # randomly pick a pivot\n",
    "    v = array[0]\n",
    "    \n",
    "    \n",
    "    # create the partitionsWe can then test the function on the same set of arrays as before to check for correctness.\n",
    "    partition1 = []\n",
    "    partition2 = []\n",
    "    partition3 = []\n",
    "    for elem in array:\n",
    "        if elem < v:\n",
    "            partition1.append(elem)\n",
    "        elif elem == v:\n",
    "            partition2.append(elem)\n",
    "        else:\n",
    "            partition3.append(elem)\n",
    "    \n",
    "    \n",
    "    # recurse on the partition which contains the k-th smallest element\n",
    "    if len(partition1) > k:\n",
    "        return quick_select(partition1, k)\n",
    "    elif len(partition1) + len(partition2) > k:\n",
    "        return v\n",
    "    else:\n",
    "        return quick_select(partition3, k - len(partition1) - len(partition2))\n",
    "    "
   ]
  },
  {
   "cell_type": "markdown",
   "metadata": {},
   "source": [
    "We can then test the function on the same set of arrays as before to check for correctness."
   ]
  },
  {
   "cell_type": "code",
   "execution_count": 12,
   "metadata": {},
   "outputs": [
    {
     "name": "stdout",
     "output_type": "stream",
     "text": [
      "The smallest element of  [6, 1, 3, 5, 7, 5, 8]  is  1\n",
      "The median element of  [10, 4, 7, 2, 8, 9]  is  8\n",
      "The largest element of  [12, 4, 6, 8, 3, 4, 2]  is  12\n"
     ]
    }
   ],
   "source": [
    "array1 = [6, 1, 3, 5, 7, 5, 8]\n",
    "array2 = [10, 4, 7, 2, 8, 9]\n",
    "array3 = [12, 4, 6 ,8 ,3, 4, 2]\n",
    "\n",
    "print(\"The smallest element of \", array1, \" is \", quick_select(array1, 0))\n",
    "print(\"The median element of \", array2, \" is \", quick_select(array2, len(array2)//2))\n",
    "print(\"The largest element of \", array3, \" is \", quick_select(array3, len(array3) - 1))"
   ]
  },
  {
   "cell_type": "markdown",
   "metadata": {},
   "source": [
    "### Verification\n",
    "\n",
    "For a more thorough test, we can check that quick_select returns the same elements as naive_select for a large number of random arrays. Often times, naive algorithms are much simpler to implement and verify than more efficient algorithms. Thus, one way to verify the correctness of our implementation is to compare it to the naive implementation which we know to be correct. \n",
    "\n",
    "The following block of code generates a 1000 random arrays and 1000 random values for k, and checks that both solutions return the same answer each time. If your implementation is correct, the following code will print \"success\"."
   ]
  },
  {
   "cell_type": "code",
   "execution_count": 13,
   "metadata": {},
   "outputs": [
    {
     "name": "stdout",
     "output_type": "stream",
     "text": [
      "success\n"
     ]
    }
   ],
   "source": [
    "for i in range(1000):\n",
    "    array = random.randint(1000,size = 1000)\n",
    "    k = random.randint(1000)\n",
    "    \n",
    "    assert naive_select(array, k) == quick_select(array,k)\n",
    "    \n",
    "print(\"success\")"
   ]
  },
  {
   "cell_type": "markdown",
   "metadata": {},
   "source": [
    "## Q3: Binary Search"
   ]
  },
  {
   "cell_type": "markdown",
   "metadata": {},
   "source": [
    "Binary search is a well-known search algorithm, first introduced in CS10, CS61A, and various other courses. Nevertheless, it serves as an excellent example of a divide and conquer algorithm.\n",
    "\n",
    "#### Finding index of a number in distinct sorted array\n",
    "For the first question, we will implement binary search such that it returns the index of the element if it exists in the array and -1 otherwise. If an element occurs multiple times, return any one of its indicies.\n",
    "\n",
    "Steps: \n",
    "1. Find a pivot\n",
    "2. Check if the pivot element is what you want, if so return the pivot\n",
    "3. If not, update the left and right indices based on the pivot\n",
    "\n",
    "### 3a. Write an iterative binary search\n",
    "This is how it is typically performed."
   ]
  },
  {
   "cell_type": "code",
   "execution_count": 37,
   "metadata": {},
   "outputs": [],
   "source": [
    "def indexOf_iterative(lst, of):\n",
    "    \"\"\"\n",
    "    Implements an iterative version of binary search which returns the index of an element in an array.\n",
    "    If there are multiple such elements, return the index of any one of them.\n",
    "    \n",
    "    args:\n",
    "    lst: sorted lit of ints\n",
    "    of: int which the function returns the index of\n",
    "    \"\"\"\n",
    "    \n",
    "    \n",
    "    l_index = 0\n",
    "    r_index = len(lst) - 1\n",
    "    \n",
    "    while r_index >= l_index:\n",
    "        mid = (r_index + l_index) // 2\n",
    "        if lst[mid] == of:\n",
    "            return mid\n",
    "        elif lst[mid] > of:\n",
    "            r_index = mid - 1\n",
    "        else:\n",
    "            l_index = mid + 1\n",
    "    \n",
    "    return -1"
   ]
  },
  {
   "cell_type": "markdown",
   "metadata": {},
   "source": [
    "### 3b. Write a recursive binary search"
   ]
  },
  {
   "cell_type": "code",
   "execution_count": 38,
   "metadata": {},
   "outputs": [],
   "source": [
    "def indexOf_recursive(lst, of):\n",
    "    \"\"\"\n",
    "    Implements a recursive version of binary search which returns the index of an element in an array.\n",
    "    If there are multiple such elements, return the index of any one of them.\n",
    "    \n",
    "    args:\n",
    "    lst: sorted lit of ints\n",
    "    of: int which the function returns the index of\n",
    "    \"\"\"\n",
    "    \n",
    "    def bin_search(l_index, r_index):\n",
    "        \"\"\"\n",
    "        Helper method with the indices in the arguments\n",
    "        \"\"\"\n",
    "        if l_index > r_index:\n",
    "            return -1\n",
    "        mid = (l_index + r_index) // 2\n",
    "        if lst[mid] == of:\n",
    "            return mid\n",
    "        elif lst[mid] < of:\n",
    "            return bin_search(mid + 1, r_index)\n",
    "        else:\n",
    "            return bin_search(l_index, mid - 1)\n",
    "    \n",
    "    return bin_search(0, len(lst) - 1)"
   ]
  },
  {
   "cell_type": "markdown",
   "metadata": {},
   "source": [
    "#### Overflow Error\n",
    "\n",
    "When working with large arrays, calculating the midpoint, $\\frac{l + r}{2}$, can result in an integer overflow error. Typically, this error is avoided when using Python, since Python's int does not overflow and can be arbitrarily large.\n",
    "\n",
    "However, languages like Java, C, and Rust can encounter this issue, making $\\frac{l + r}{2}$ undesirable. `numpy` is written in C, and its primitive types suffer the same problem.\n",
    "\n",
    "### 3c. Using some algebraic manipulation, find a simple yet elegant expression to compute the same midpoint in a way that avoids overflow errors."
   ]
  },
  {
   "cell_type": "code",
   "execution_count": 39,
   "metadata": {},
   "outputs": [],
   "source": [
    "# Create two 8-bit ints using numpy\n",
    "a: np.int8 = np.int8(116)\n",
    "b: np.int8 = np.int8(127)"
   ]
  },
  {
   "cell_type": "code",
   "execution_count": 40,
   "metadata": {},
   "outputs": [
    {
     "name": "stdout",
     "output_type": "stream",
     "text": [
      "The standard implementation overflows, and we get a negative \"midpoint\": -7\n"
     ]
    },
    {
     "name": "stderr",
     "output_type": "stream",
     "text": [
      "<ipython-input-40-77659f466485>:2: RuntimeWarning: overflow encountered in byte_scalars\n",
      "  return (l + r) // 2\n"
     ]
    }
   ],
   "source": [
    "def return_pivot_incorrect(l: np.int8, r: np.int8) -> np.int8:\n",
    "    return (l + r) // 2\n",
    "\n",
    "print('The standard implementation overflows, and we get a negative \"midpoint\":',\n",
    "      return_pivot_incorrect(a, b))"
   ]
  },
  {
   "cell_type": "code",
   "execution_count": 41,
   "metadata": {},
   "outputs": [],
   "source": [
    "def return_pivot(l: np.int8, r: np.int8) -> np.int8:\n",
    "    return l // 2 + r // 2 + (l % 2) * (r % 2)\n",
    "\n",
    "return_pivot(a, b)\n",
    "assert return_pivot(a, b) == 121, \"Returned wrong value\""
   ]
  },
  {
   "cell_type": "markdown",
   "metadata": {},
   "source": [
    "#### Verification\n",
    "\n",
    "\n",
    "##### Common Mistakes\n",
    "\n",
    "Binary search is also a notoriously buggy algorithm to implement due to the number of edge cases that are often unaccounted for https://stackoverflow.com/questions/504335/what-are-the-pitfalls-in-implementing-binary-search\n",
    "\n",
    "Here are a few bugs we will check for in your solution:\n",
    "\n",
    "1. It fails if the array is length 0. This is easy to fix with more careful indexing.\n",
    "2. The algorithm can fail to return the index of a key which exists in the array. This often happens due to indexing errors where the algorithm ends up on the element thats to the immediate left or right of the key. This can be fixed with careful indexing or an if statement after the main loop if you know the algorithm always round up or down one too many times.\n",
    "3. The algorithm fails if the key is greater than the largest element or smaller than the smallest element in the array. "
   ]
  },
  {
   "cell_type": "code",
   "execution_count": 42,
   "metadata": {},
   "outputs": [
    {
     "name": "stdout",
     "output_type": "stream",
     "text": [
      "success\n"
     ]
    }
   ],
   "source": [
    "import numpy as np\n",
    "arr_empty = []\n",
    "assert indexOf_iterative(arr_empty, 0) == -1\n",
    "print(\"success\")"
   ]
  },
  {
   "cell_type": "code",
   "execution_count": 43,
   "metadata": {},
   "outputs": [
    {
     "name": "stdout",
     "output_type": "stream",
     "text": [
      "success\n"
     ]
    }
   ],
   "source": [
    "arr_wrong_index = [np.random.randint(0,100) for i in range(0,100)] + [50 for i in range(10)]\n",
    "arr_wrong_index = sorted(arr_wrong_index)\n",
    "assert indexOf_iterative(arr_wrong_index, 50) != -1 and arr_wrong_index[indexOf_iterative(arr_wrong_index, 50)] == 50\n",
    "print(\"success\")"
   ]
  },
  {
   "cell_type": "code",
   "execution_count": 44,
   "metadata": {},
   "outputs": [
    {
     "name": "stdout",
     "output_type": "stream",
     "text": [
      "success\n"
     ]
    }
   ],
   "source": [
    "arr_out_of_bounds = [np.random.randint(0,100) for i in range(0,100)]\n",
    "arr_out_of_bounds = sorted(arr_out_of_bounds)\n",
    "assert indexOf_iterative(arr_empty, -1) == -1\n",
    "assert indexOf_iterative(arr_empty, 101) == -1\n",
    "print(\"success\")"
   ]
  },
  {
   "cell_type": "code",
   "execution_count": 45,
   "metadata": {},
   "outputs": [
    {
     "name": "stdout",
     "output_type": "stream",
     "text": [
      "success\n"
     ]
    }
   ],
   "source": [
    "arr_empty = []\n",
    "assert indexOf_recursive(arr_empty, 0) == -1\n",
    "print(\"success\")"
   ]
  },
  {
   "cell_type": "code",
   "execution_count": 46,
   "metadata": {},
   "outputs": [
    {
     "name": "stdout",
     "output_type": "stream",
     "text": [
      "success\n"
     ]
    }
   ],
   "source": [
    "arr_wrong_index = [np.random.randint(0,100) for i in range(0,100)] + [50 for i in range(10)]\n",
    "arr_wrong_index = sorted(arr_wrong_index)\n",
    "assert indexOf_recursive(arr_wrong_index, 50) != -1 and arr_wrong_index[indexOf_iterative(arr_wrong_index, 50)] == 50\n",
    "print(\"success\")"
   ]
  },
  {
   "cell_type": "code",
   "execution_count": 47,
   "metadata": {},
   "outputs": [
    {
     "name": "stdout",
     "output_type": "stream",
     "text": [
      "success\n"
     ]
    }
   ],
   "source": [
    "arr_out_of_bounds = [np.random.randint(0,100) for i in range(0,100)]\n",
    "arr_out_of_bounds = sorted(arr_out_of_bounds)\n",
    "assert indexOf_recursive(arr_empty, -1) == -1\n",
    "assert indexOf_recursive(arr_empty, 101) == -1\n",
    "print(\"success\")"
   ]
  },
  {
   "cell_type": "markdown",
   "metadata": {},
   "source": [
    "We will now verify the correctness of your algorithms by running the algorithm on 5000 random arrays. If your solution is correct, it should print \"success\"."
   ]
  },
  {
   "cell_type": "code",
   "execution_count": 48,
   "metadata": {},
   "outputs": [
    {
     "name": "stdout",
     "output_type": "stream",
     "text": [
      "success\n"
     ]
    }
   ],
   "source": [
    "for i in range(2500):\n",
    "    arr = [np.random.randint(0,1000) for i in range(0,1000)]\n",
    "    arr = sorted(arr)\n",
    "    key = np.random.randint(0,1000)\n",
    "    index_it = indexOf_iterative(arr, key)\n",
    "    index_rec = indexOf_recursive(arr, key)\n",
    "    if key in arr:\n",
    "        assert index_it != -1 and arr[index_it] == key\n",
    "        assert index_rec != -1 and arr[index_rec] == key\n",
    "    else:\n",
    "        assert index_it == -1\n",
    "        assert index_rec == -1\n",
    "\n",
    "print(\"success\")"
   ]
  },
  {
   "cell_type": "markdown",
   "metadata": {},
   "source": [
    "### 3d. Modify your iterative binary serach so that it returns the index of the first occurance of an element if it doesn't do so already.\n",
    "\n",
    "Sometimes, not only do you want to find the index of an element, you want to find the lowest index of that element if there are ties.\n",
    "\n",
    "To do so, rather than immediately returning the pivot if the pivot element is what you're searching for, search on the left half of the array to determine if there is a smaller index for that element. You may have to experiment with indices (i.e. setting the left or right to pivot, pivot + 1, or pivot -1).\n",
    "\n",
    "__Note: your solution must be $O(\\log n)$ you may not call your initial binary search function and simply iterate left__"
   ]
  },
  {
   "cell_type": "code",
   "execution_count": 53,
   "metadata": {},
   "outputs": [],
   "source": [
    "def lowest_indexOf(lst, of):\n",
    "    \"\"\"\n",
    "    Implements an iterative version of binary search which returns the index of an element in an array.\n",
    "    If there are multiple such elements, return the lowest index.\n",
    "    \n",
    "    args:\n",
    "    lst: sorted lit of ints\n",
    "    of: int which the function returns the index of\n",
    "    \"\"\"\n",
    "    l_index = 0\n",
    "    r_index = len(lst) - 1\n",
    "    \n",
    "    while r_index >= l_index:\n",
    "        if r_index == l_index:\n",
    "            if lst[l_index] == of:\n",
    "                return l_index\n",
    "            else:\n",
    "                break\n",
    "        mid = (r_index + l_index) // 2\n",
    "        if lst[mid] >= of:\n",
    "            r_index = mid\n",
    "        else:\n",
    "            l_index = mid + 1\n",
    "    \n",
    "    return -1"
   ]
  },
  {
   "cell_type": "markdown",
   "metadata": {},
   "source": [
    "We can verify correctness by simply comparing your solution to the `index()` function."
   ]
  },
  {
   "cell_type": "code",
   "execution_count": 54,
   "metadata": {},
   "outputs": [
    {
     "name": "stdout",
     "output_type": "stream",
     "text": [
      "success\n"
     ]
    }
   ],
   "source": [
    "for i in range(2500):\n",
    "    arr = [np.random.randint(0,1000) for i in range(0,1000)]\n",
    "    arr = sorted(arr)\n",
    "    key = np.random.randint(0,1000)\n",
    "    index = lowest_indexOf(arr, key)\n",
    "    if key in arr:\n",
    "        assert index == arr.index(key)\n",
    "    else:\n",
    "        assert index == -1\n",
    "\n",
    "print(\"success\")"
   ]
  },
  {
   "cell_type": "markdown",
   "metadata": {},
   "source": [
    "### Contributors\n",
    "\n",
    "v1.0 (2022 Fall) Wilson Wu, yxu, Evgenii Sizykh"
   ]
  }
 ],
 "metadata": {
  "kernelspec": {
   "display_name": "Python 3",
   "language": "python",
   "name": "python3"
  },
  "language_info": {
   "codemirror_mode": {
    "name": "ipython",
    "version": 3
   },
   "file_extension": ".py",
   "mimetype": "text/x-python",
   "name": "python",
   "nbconvert_exporter": "python",
   "pygments_lexer": "ipython3",
   "version": "3.8.5"
  }
 },
 "nbformat": 4,
 "nbformat_minor": 5
}
