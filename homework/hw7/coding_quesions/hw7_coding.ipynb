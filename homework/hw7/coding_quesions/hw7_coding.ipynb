{
 "cells": [
  {
   "cell_type": "markdown",
   "id": "a6055748-a906-42f7-8cfb-bd90784fbe46",
   "metadata": {},
   "source": [
    "Cute penguin uwu"
   ]
  },
  {
   "cell_type": "markdown",
   "id": "f3d5cf90-820b-4192-9b17-fb9ce32c63ac",
   "metadata": {},
   "source": [
    "![PNPenguin](https://cs170.org/assets/pnpenguin.png)"
   ]
  },
  {
   "cell_type": "markdown",
   "id": "3cde1f70-135f-4a34-a895-c770c8125c44",
   "metadata": {},
   "source": [
    "| | | \n",
    "-----|---  \n",
    "放て! 心に刻んだ夢を<br>未来さえ置き去りにして<br>限界など知らない 意味無い!<br>この能力が光散らす<br>その先に遥かな想いを|Release! For the dreams etched into my heart<br>Leave even the future behind<br>I know no limits and they hold no meaning!<br>My power will be giving off sparks of light<br>Up ahead lies a faraway feeling\n",
    "\n"
   ]
  }
 ],
 "metadata": {
  "kernelspec": {
   "display_name": "Python 3 (ipykernel)",
   "language": "python",
   "name": "python3"
  },
  "language_info": {
   "codemirror_mode": {
    "name": "ipython",
    "version": 3
   },
   "file_extension": ".py",
   "mimetype": "text/x-python",
   "name": "python",
   "nbconvert_exporter": "python",
   "pygments_lexer": "ipython3",
   "version": "3.9.0"
  }
 },
 "nbformat": 4,
 "nbformat_minor": 5
}
