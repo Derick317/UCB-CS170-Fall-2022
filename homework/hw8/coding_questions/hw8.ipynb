{
 "cells": [
  {
   "cell_type": "markdown",
   "id": "b010c0e2-b6a3-4fea-bf19-850d5644b3fe",
   "metadata": {},
   "source": [
    "# Network Flow"
   ]
  },
  {
   "cell_type": "code",
   "execution_count": null,
   "id": "b39f4041-bcbe-47f6-a8b3-531483a0253a",
   "metadata": {},
   "outputs": [],
   "source": [
    "import numpy as np\n",
    "import networkx as nx\n",
    "import queue\n",
    "\n",
    "import typing\n",
    "import tqdm\n",
    "\n",
    "ok = \"\"\"\n",
    "         _          _                  _           _        \n",
    "        /\\ \\       / /\\               / /\\        / /\\      \n",
    "       /  \\ \\     / /  \\             / /  \\      / /  \\     \n",
    "      / /\\ \\ \\   / / /\\ \\           / / /\\ \\__  / / /\\ \\__  \n",
    "     / / /\\ \\_\\ / / /\\ \\ \\         / / /\\ \\___\\/ / /\\ \\___\\ \n",
    "    / / /_/ / // / /  \\ \\ \\        \\ \\ \\ \\/___/\\ \\ \\ \\/___/ \n",
    "   / / /__\\/ // / /___/ /\\ \\        \\ \\ \\       \\ \\ \\       \n",
    "  / / /_____// / /_____/ /\\ \\   _    \\ \\ \\  _    \\ \\ \\      \n",
    " / / /      / /_________/\\ \\ \\ /_/\\__/ / / /_/\\__/ / /      \n",
    "/ / /      / / /_       __\\ \\_\\\\ \\/___/ /  \\ \\/___/ /       \n",
    "\\/_/       \\_\\___\\     /____/_/ \\_____\\/    \\_____\\/        \n",
    "                                                            \n",
    "\"\"\""
   ]
  },
  {
   "cell_type": "code",
   "execution_count": null,
   "id": "3d986c80-b656-4337-95b1-33edb859cca7",
   "metadata": {},
   "outputs": [],
   "source": [
    "try:\n",
    "    nx.gnp_random_graph(7, 0.65, seed=np.random.default_rng(seed=1145141919), directed=True)\n",
    "    prng = np.random.default_rng(seed=114514)\n",
    "except Exception as e:\n",
    "    prng = np.random.RandomState(seed=1919810)"
   ]
  },
  {
   "cell_type": "code",
   "execution_count": null,
   "id": "ae5c48bd-9f28-4c6f-b7cc-a7637a057721",
   "metadata": {},
   "outputs": [],
   "source": [
    "prng1 = np.random.default_rng(seed=114514)"
   ]
  },
  {
   "cell_type": "code",
   "execution_count": null,
   "id": "73776a69-0cd0-46b2-95da-ced84449ef5d",
   "metadata": {},
   "outputs": [],
   "source": [
    "def rand_graph() -> nx.DiGraph:\n",
    "    random_graph = nx.gnp_random_graph(prng1.integers(16, 64), 0.25, seed=prng, directed=True)\n",
    "    for u, v in random_graph.edges:\n",
    "        random_graph.edges[u, v][\"capacity\"] = prng1.integers(0, 69)\n",
    "        random_graph.edges[u, v][\"flow\"] = 0\n",
    "    return random_graph"
   ]
  },
  {
   "cell_type": "markdown",
   "id": "fa4a67e4-8955-42b4-96f4-85f3c6c022c7",
   "metadata": {},
   "source": [
    "Here, we will implement one well-defined implementation of Ford–Fulkerson algorithm: Edmonds–Karp algorithm.\n",
    "\n",
    "What Ford–Fulkerson does can be summarised as 3 steps:\n",
    "\n",
    "0. Find an augmenting path in the graph\n",
    "1. Construct the residual graph by augmenting the path based on the original graph and augmenting path\n",
    "2. Do this until no augmenting path can be found.\n",
    "\n",
    "Ford-Fulkerson is not well-defined because there could be multiple ways of doing step 0: by DFS, by A* search, by some RL model that takes 200 RTX A6000 to train, or by magic......  \n",
    "If we use BFS to find the augmenting path, this algorithm is called Edmonds–Karp algorithm which is what we will implement today.  \n",
    "Fun fact: Edmonds–Karp algorithm was first introduced by Soviet mathematician Yefim Dinitz/Dinic (Ефим Диниц for his Russian-speaking friends), yet Dinic Algorithm is the name of a more complex and efficient algorithm for Network Flow problems."
   ]
  },
  {
   "cell_type": "code",
   "execution_count": null,
   "id": "48202bfc-0be1-4dfa-9a59-9c92d6cbc60a",
   "metadata": {},
   "outputs": [],
   "source": [
    "nx.draw_networkx(rand_graph())"
   ]
  },
  {
   "cell_type": "markdown",
   "id": "192bd10b-030f-4387-916d-f8207849412f",
   "metadata": {},
   "source": [
    "## Augmenting Path"
   ]
  },
  {
   "cell_type": "markdown",
   "id": "a3ea1a73-21b2-4dd4-b842-fbe4f9c0c35f",
   "metadata": {},
   "source": [
    "First, you will implement the BFS portion of Edmonds–Karp algorithm.  \n",
    "Given a graph and `s` and `t` vertices, find a augmenting path (a list of vertices from `s` to `t` **including** `s` and `t`) with BFS. If there's no path, return None."
   ]
  },
  {
   "cell_type": "markdown",
   "id": "70fd7b78-2096-49e5-8193-2c9ddf4910a7",
   "metadata": {},
   "source": [
    "### Networkx tricks\n",
    "\n",
    "There are some `networkx` tricks you might want to use below to make your life way easier:\n",
    "\n",
    "To access flow from edge `(u, v)`, do `g.edges[u, v][\"flow\"]`; sub `flow` for `capacity` for capacity.\n",
    "\n",
    "To access outgoing edges from `c` like adjacency list, do `g.edges(c)`. Note the returned type is an iterable of vertex tuples, so you should do something like:\n",
    "```\n",
    "for u, v in g.edges(c):\n",
    "    e = g.edges[u, v]\n",
    "    print(e[\"flow\"])\n",
    "```\n",
    "\n",
    "To update an edge, use `g.add_edge(u, v, flow=0, capacity=1)` or `g.edges[u, v][\"flow\"] = 0`.\n",
    "\n",
    "For the purpose of this coding HW, instead of decreasing `g.edges[u, v][\"capacity\"]` and check if it's still greater than zero each time you find or augment a path, please increase `g.edges[u, v][\"flow\"]` and check if it's still greater than `g.edges[u, v][\"capacity\"]`.\n",
    "\n",
    "While `g.edges[u, v]` looks like adjacency matrix it is not - if (u, v) doesn't exist there would be `KeyError`.  \n",
    "Later, when implementing `edmonds_karp()`, you are free to use `nx.algorithms.flow.build_residual_network` to avoid such matter."
   ]
  },
  {
   "cell_type": "code",
   "execution_count": null,
   "id": "6f8fde8e-bd61-487d-8668-d8a9ef82916c",
   "metadata": {},
   "outputs": [],
   "source": [
    "def bfs_augmenting_path(g: nx.DiGraph, s: int, t: int) -> typing.Union[typing.List[int], None]:\n",
    "    # Your code here\n",
    "    q = queue.Queue()\n",
    "    prev = {s: None}\n",
    "    q.put(s)\n",
    "\n",
    "    while not q.empty():\n",
    "        c = q.get()\n",
    "        for u, v in g.edges(c):\n",
    "            if g.edges[u, v][\"flow\"] < g.edges[u, v][\"capacity\"] and v not in prev:\n",
    "                prev[v] = u\n",
    "                if v == t:\n",
    "                    break\n",
    "                else:\n",
    "                    q.put(v)\n",
    "        if t in prev:\n",
    "            break\n",
    "\n",
    "    if t not in prev:\n",
    "        return None\n",
    "    \n",
    "    rev_path = [t]\n",
    "    while rev_path[-1] != s:\n",
    "        rev_path.append(prev[rev_path[-1]])\n",
    "    return list(reversed(rev_path))"
   ]
  },
  {
   "cell_type": "code",
   "execution_count": null,
   "id": "4f9a4d21-89cd-4581-a9ca-55c6dbb07f9e",
   "metadata": {},
   "outputs": [],
   "source": [
    "for i in tqdm.tqdm(range(114)):\n",
    "    random_graph = rand_graph()\n",
    "    for _ in range(15):\n",
    "        s = 0; t = 0\n",
    "        while s == t:\n",
    "            s = prng1.integers(0, len(random_graph))\n",
    "            t = prng1.integers(0, len(random_graph))\n",
    "        g_copy = random_graph.copy()\n",
    "        edge_removal = []\n",
    "        for u, v in g_copy.edges:\n",
    "            if g_copy.edges[u, v][\"flow\"] >= g_copy.edges[u, v][\"capacity\"]:\n",
    "                edge_removal.append((u, v))\n",
    "        g_copy.remove_edges_from(edge_removal)\n",
    "        sp: list\n",
    "        try:\n",
    "            sp = nx.shortest_path(g_copy, s, t)\n",
    "            res = bfs_augmenting_path(random_graph, s, t)\n",
    "            if res is None:\n",
    "                print(s, t)\n",
    "                nx.draw_networkx(g_copy)\n",
    "            for i in range(len(res) - 1):\n",
    "                try:\n",
    "                    e = random_graph.edges[res[i], res[i + 1]]\n",
    "                except KeyError as e:\n",
    "                    raise AssertionError(\"no edge ({0}, {1})\".format(i, i+1))\n",
    "                assert e[\"flow\"] < e[\"capacity\"], \"edge ({0}, {1}) capacity issue\".format(i, i+1) \n",
    "                \n",
    "            if len(res) != len(sp):\n",
    "                print(\"[WARNING] Your augmenting path is not shortest, did you implement BFS?\")\n",
    "                print(\"Augmenting: {0}, shortest: {1}\".format(res, sp))\n",
    "        except nx.NetworkXNoPath:\n",
    "            print(\"No path between {0} and {1}, skipping\".format(s, t))\n",
    "print(ok)"
   ]
  },
  {
   "cell_type": "markdown",
   "id": "a2c28983-bf7e-43af-b179-0ad1708cad1c",
   "metadata": {},
   "source": [
    "## Augment\n",
    "After finding the augmenting path, now, fill in this function for `augment`: given a s-t path, determine the smallest capacity edge and it will be the capacity of the augmenting path. Then, augment the path by decreasing available capacity (or increasing flow) for u-v and do the opposite for v-u. Finally, return the capacity of the flow you augmented."
   ]
  },
  {
   "cell_type": "code",
   "execution_count": null,
   "id": "266112a5-d23c-46c2-bc9b-a1105827147c",
   "metadata": {},
   "outputs": [],
   "source": [
    "def augment(g, path):\n",
    "    # Your code here\n",
    "    new_flow = float(\"inf\")\n",
    "    for i in range(len(path) - 1):\n",
    "        e = g.edges[path[i], path[i+1]]\n",
    "        new_flow = min(new_flow, e[\"capacity\"] - e[\"flow\"])\n",
    "    for i in range(len(path) - 1):\n",
    "        g.edges[path[i], path[i + 1]][\"capacity\"] -= new_flow\n",
    "        g.edges[path[i + 1], path[i]][\"capacity\"] += new_flow\n",
    "    return new_flow"
   ]
  },
  {
   "cell_type": "markdown",
   "id": "4be70502-304e-4db0-998d-5a53bf14530a",
   "metadata": {},
   "source": [
    "## Edmonds-Karp\n",
    "Now, implement Edmonds-Karp with the functions you made above:\n",
    "\n",
    "\n",
    "0. Find an augmenting path in the graph (with `bfs_augmenting_path`)\n",
    "1. Construct the residual graph by augmenting the path based on the original graph and augmenting path (with `augment`)\n",
    "2. Do this until no augmenting path can be found.\n",
    "\n",
    "Return the capacity and the final residual graph; but the AG will only check capacity. Do not modify G (you can do it by making a copy of G by invoking `g.copy()`)."
   ]
  },
  {
   "cell_type": "code",
   "execution_count": null,
   "id": "af628d02-36c9-478e-8a77-f8cc29fffebb",
   "metadata": {},
   "outputs": [],
   "source": [
    "def edmonds_karp(gg: nx.DiGraph, s, t) -> typing.Tuple[int, nx.DiGraph]:\n",
    "    g = nx.algorithms.flow.build_residual_network(gg.copy(), \"capacity\")\n",
    "    nx.set_edge_attributes(g, 0, \"flow\")\n",
    "    # Your code here\n",
    "    flow_size = 0\n",
    "    sp = bfs_augmenting_path(g, s, t)\n",
    "    while sp is not None:\n",
    "        flow_size += augment(g, sp)\n",
    "        g = nx.algorithms.flow.build_residual_network(g, \"capacity\")\n",
    "        nx.set_edge_attributes(g, 0, \"flow\")\n",
    "        sp = bfs_augmenting_path(g, s, t)\n",
    "    \n",
    "    return flow_size, g\n"
   ]
  },
  {
   "cell_type": "code",
   "execution_count": null,
   "id": "e5dc1c23-2ded-415b-bd04-5b6bec2a94b3",
   "metadata": {},
   "outputs": [],
   "source": [
    "for i in tqdm.tqdm(range(69)):\n",
    "    random_graph = rand_graph()\n",
    "    for j in range(10):\n",
    "        s = 0; t = 0\n",
    "        while s == t:\n",
    "            s = prng1.integers(0, len(random_graph))\n",
    "            t = prng1.integers(0, len(random_graph))\n",
    "        assert edmonds_karp(random_graph, s, t)[0] == nx.algorithms.flow.maximum_flow(random_graph, s, t)[0]\n",
    "print(ok)"
   ]
  },
  {
   "cell_type": "markdown",
   "id": "0ff6f860-d1a9-4640-a10b-4020c4d2deaa",
   "metadata": {},
   "source": [
    "## Linear Programming (Optional)\n",
    "According to DPV p. 212, Network Flow reduces to LP problem. If you want to try that as well, please read document of `cvxpy` and finish it below.  \n",
    "This part is entirely optional and we may or may not provide solution. There's no extra credit and this part won't be graded."
   ]
  },
  {
   "cell_type": "code",
   "execution_count": null,
   "id": "34690517-379d-4a65-b86e-e88549d16384",
   "metadata": {},
   "outputs": [],
   "source": [
    "!pip install cvxpy --quiet"
   ]
  },
  {
   "cell_type": "code",
   "execution_count": null,
   "id": "8d235d4a-35d6-4d8c-9dcf-78c9b7998a80",
   "metadata": {},
   "outputs": [],
   "source": [
    "import cvxpy as cp"
   ]
  },
  {
   "cell_type": "code",
   "execution_count": null,
   "id": "0335148a-bbec-40b2-a26e-445508b2925f",
   "metadata": {},
   "outputs": [],
   "source": [
    "def lp_flow(gg: nx.DiGraph, s, t) -> typing.Tuple[int]:\n",
    "    # Your code here\n",
    "    pass"
   ]
  }
 ],
 "metadata": {
  "kernelspec": {
   "display_name": "Python 3.8.5 ('base')",
   "language": "python",
   "name": "python3"
  },
  "language_info": {
   "codemirror_mode": {
    "name": "ipython",
    "version": 3
   },
   "file_extension": ".py",
   "mimetype": "text/x-python",
   "name": "python",
   "nbconvert_exporter": "python",
   "pygments_lexer": "ipython3",
   "version": "3.8.5"
  },
  "vscode": {
   "interpreter": {
    "hash": "ad2bdc8ecc057115af97d19610ffacc2b4e99fae6737bb82f5d7fb13d2f2c186"
   }
  }
 },
 "nbformat": 4,
 "nbformat_minor": 5
}
